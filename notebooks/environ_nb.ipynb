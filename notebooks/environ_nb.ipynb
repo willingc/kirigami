{
 "cells": [
  {
   "cell_type": "code",
   "execution_count": null,
   "id": "8fa161d6-a4e0-4be9-ab2e-b4f6452ff1de",
   "metadata": {},
   "outputs": [],
   "source": [
    "from dotenv import load_dotenv"
   ]
  },
  {
   "cell_type": "code",
   "execution_count": null,
   "id": "8760428e-98ee-4fdb-b89e-4f418bdfbb83",
   "metadata": {},
   "outputs": [],
   "source": [
    "load_dotenv('../.env')"
   ]
  },
  {
   "cell_type": "code",
   "execution_count": null,
   "id": "b0ebd640-67bd-48af-8c8a-eac3aa21da2f",
   "metadata": {},
   "outputs": [],
   "source": [
    "from dotenv import dotenv_values"
   ]
  },
  {
   "cell_type": "code",
   "execution_count": null,
   "id": "52f70547-c904-460c-ae51-cfa11f8c546c",
   "metadata": {},
   "outputs": [],
   "source": [
    "config = dotenv_values('../.env')"
   ]
  },
  {
   "cell_type": "code",
   "execution_count": null,
   "id": "3565c7e7-0fec-40a7-aaa2-65d1ea474980",
   "metadata": {},
   "outputs": [],
   "source": [
    "print(config)"
   ]
  },
  {
   "cell_type": "code",
   "execution_count": null,
   "id": "c566d56d-7851-421b-b7ca-0c47959f7ca4",
   "metadata": {},
   "outputs": [],
   "source": [
    "print(config['DISCOURSE_USERNAME'])"
   ]
  },
  {
   "cell_type": "code",
   "execution_count": null,
   "id": "64b34d3a-fa16-4a65-a777-0c4d5df9a454",
   "metadata": {},
   "outputs": [],
   "source": [
    "import pydiscourse\n",
    "\n",
    "pydiscourse.__version__"
   ]
  },
  {
   "cell_type": "code",
   "execution_count": null,
   "id": "5f8041c6-5848-4765-9428-655b51e3c3b2",
   "metadata": {},
   "outputs": [],
   "source": [
    "from pydiscourse import DiscourseClient\n",
    "client = DiscourseClient(\n",
    "        config['ROOT_URL'],\n",
    "        config['DISCOURSE_USERNAME'],\n",
    "        config['DISCOURSE_API_KEY']\n",
    ")"
   ]
  },
  {
   "cell_type": "code",
   "execution_count": null,
   "id": "8ea20f19-d72d-4822-b8a8-0e8204694ed0",
   "metadata": {},
   "outputs": [],
   "source": [
    "client"
   ]
  },
  {
   "cell_type": "code",
   "execution_count": null,
   "id": "52224f49-0f97-44f9-944c-090fc06cf7f5",
   "metadata": {},
   "outputs": [],
   "source": [
    "client.user('willingc')"
   ]
  },
  {
   "cell_type": "code",
   "execution_count": null,
   "id": "ed06461d-c9d7-4253-9fc5-5e1a72fddd91",
   "metadata": {},
   "outputs": [],
   "source": [
    "posts = client.topic_posts(46593)"
   ]
  },
  {
   "cell_type": "code",
   "execution_count": null,
   "id": "6f70b5dc-0b4f-49c5-a62b-1e3c5d7f7c78",
   "metadata": {},
   "outputs": [],
   "source": [
    "len(posts)"
   ]
  },
  {
   "cell_type": "code",
   "execution_count": null,
   "id": "c0b40d6c-7618-45a6-b7fa-67c87eb46432",
   "metadata": {},
   "outputs": [],
   "source": [
    "posts['post_stream']['posts']"
   ]
  },
  {
   "cell_type": "code",
   "execution_count": null,
   "id": "66e18920-6bdf-44a2-b648-6639ae3a0f20",
   "metadata": {},
   "outputs": [],
   "source": [
    "len(posts['post_stream']['posts'])"
   ]
  },
  {
   "cell_type": "code",
   "execution_count": null,
   "id": "870500d3-4df7-40dd-859a-22bc5a2911ad",
   "metadata": {},
   "outputs": [],
   "source": [
    "posts['post_stream']['posts'][0]"
   ]
  },
  {
   "cell_type": "code",
   "execution_count": null,
   "id": "39781260-a546-4280-9c67-41e8bdb705fd",
   "metadata": {},
   "outputs": [],
   "source": [
    "posts['post_stream']['posts'][0]['cooked']"
   ]
  },
  {
   "cell_type": "code",
   "execution_count": null,
   "id": "c4c0863e-4c25-4d74-a016-5ab8ec0830b4",
   "metadata": {},
   "outputs": [],
   "source": [
    "from IPython.display import display, HTML\n",
    "display(HTML('<h1>Hello World</h1>'))"
   ]
  },
  {
   "cell_type": "code",
   "execution_count": null,
   "id": "b8b3cedf-b508-4ec7-8fc3-7a0feb79afc3",
   "metadata": {},
   "outputs": [],
   "source": [
    "display(HTML(posts['post_stream']['posts'][0]['cooked']))"
   ]
  },
  {
   "cell_type": "code",
   "execution_count": null,
   "id": "edeab560-fd7d-4f1d-b717-ee7721b16d76",
   "metadata": {},
   "outputs": [],
   "source": [
    "display(HTML(posts['post_stream']['posts'][19]['cooked']))"
   ]
  },
  {
   "cell_type": "code",
   "execution_count": null,
   "id": "6fdd24aa-b4e4-4d8f-aee9-d964620959e6",
   "metadata": {},
   "outputs": [],
   "source": [
    "display(HTML(posts['post_stream']['posts'][1]['cooked']))"
   ]
  },
  {
   "cell_type": "code",
   "execution_count": null,
   "id": "63e20573-340a-44fe-8f13-15fd02724e22",
   "metadata": {},
   "outputs": [],
   "source": [
    "for num in range(0,20):\n",
    "    display(HTML(posts['post_stream']['posts'][num]['cooked']))"
   ]
  },
  {
   "cell_type": "code",
   "execution_count": null,
   "id": "bc0eef41-0ec8-49ce-a0bb-f0f89b88f11f",
   "metadata": {},
   "outputs": [],
   "source": [
    "for i in posts['post_stream']['posts']:   \n",
    "    if i['name'] is not None:\n",
    "        print(i['name'])\n",
    "        display(HTML(i['cooked']))"
   ]
  },
  {
   "cell_type": "code",
   "execution_count": null,
   "id": "9fcf7e25-c274-4119-9add-74eb887c843a",
   "metadata": {},
   "outputs": [],
   "source": [
    "posts['id']"
   ]
  },
  {
   "cell_type": "code",
   "execution_count": null,
   "id": "756c9ca2-197a-4616-acb5-645757aefa4f",
   "metadata": {},
   "outputs": [],
   "source": [
    "posts['related_topics']"
   ]
  },
  {
   "cell_type": "code",
   "execution_count": null,
   "id": "371ce7b6-4d66-4e09-8199-122bb4b6d389",
   "metadata": {},
   "outputs": [],
   "source": [
    "topic_level = ['post_stream', 'id', 'related_topics']"
   ]
  },
  {
   "cell_type": "code",
   "execution_count": null,
   "id": "153372b7-007b-400a-af0d-0556c604a287",
   "metadata": {},
   "outputs": [],
   "source": [
    "posts['post_stream']"
   ]
  },
  {
   "cell_type": "code",
   "execution_count": null,
   "id": "1b711ace-41e8-4609-88de-e084fb84fdeb",
   "metadata": {},
   "outputs": [],
   "source": [
    "len(posts['post_stream'])"
   ]
  },
  {
   "cell_type": "code",
   "execution_count": null,
   "id": "2c63bbf1-1637-4d93-ab33-83377065dfc8",
   "metadata": {},
   "outputs": [],
   "source": [
    "post_collection = posts['post_stream']"
   ]
  },
  {
   "cell_type": "code",
   "execution_count": null,
   "id": "4f81e7d3-e687-45db-84eb-c805392226c3",
   "metadata": {},
   "outputs": [],
   "source": [
    "len(post_collection)"
   ]
  },
  {
   "cell_type": "code",
   "execution_count": null,
   "id": "82b83ef1-f62f-4e2c-963a-97bc531475ff",
   "metadata": {},
   "outputs": [],
   "source": [
    "ind_posts = post_collection['posts']"
   ]
  },
  {
   "cell_type": "code",
   "execution_count": null,
   "id": "94433651-2836-44b4-b47d-24da8736d833",
   "metadata": {},
   "outputs": [],
   "source": [
    "len(ind_posts)"
   ]
  },
  {
   "cell_type": "code",
   "execution_count": null,
   "id": "da7254e0-3430-4974-b791-b404082bafcb",
   "metadata": {},
   "outputs": [],
   "source": [
    "while ind_posts:\n",
    "    print(f'{ind_posts{'id'}}')"
   ]
  },
  {
   "cell_type": "code",
   "execution_count": null,
   "id": "4e68731b-ccc3-4e66-8098-103a6bf500a6",
   "metadata": {},
   "outputs": [],
   "source": [
    "print(ind_posts[:])"
   ]
  },
  {
   "cell_type": "code",
   "execution_count": null,
   "id": "fe8c18b9-7551-400c-819f-333c52864912",
   "metadata": {},
   "outputs": [],
   "source": [
    "only_posts = client.posts(46593)"
   ]
  },
  {
   "cell_type": "code",
   "execution_count": null,
   "id": "0ffb3505-837e-483c-8756-721489e16aec",
   "metadata": {},
   "outputs": [],
   "source": [
    "only_posts"
   ]
  },
  {
   "cell_type": "code",
   "execution_count": null,
   "id": "2489f3b9-3175-4a6b-b374-c2d976fcdae3",
   "metadata": {},
   "outputs": [],
   "source": []
  }
 ],
 "metadata": {
  "kernelspec": {
   "display_name": "Python 3 (ipykernel)",
   "language": "python",
   "name": "python3"
  },
  "language_info": {
   "codemirror_mode": {
    "name": "ipython",
    "version": 3
   },
   "file_extension": ".py",
   "mimetype": "text/x-python",
   "name": "python",
   "nbconvert_exporter": "python",
   "pygments_lexer": "ipython3",
   "version": "3.11.6"
  }
 },
 "nbformat": 4,
 "nbformat_minor": 5
}
