{
 "cells": [
  {
   "cell_type": "markdown",
   "id": "ab9dfc14-ca3a-49b9-ad31-b42da6c36dfe",
   "metadata": {},
   "source": [
    "# Get some data\n",
    "\n",
    "Get a `json` file that contains information on a Discourse topic."
   ]
  },
  {
   "cell_type": "code",
   "execution_count": null,
   "id": "3839a479-ffec-4b5d-9ffc-e8e0bf83a777",
   "metadata": {},
   "outputs": [],
   "source": [
    "import json"
   ]
  },
  {
   "cell_type": "code",
   "execution_count": null,
   "id": "a2191925-6177-406b-98b3-8ec59713f7fc",
   "metadata": {},
   "outputs": [],
   "source": [
    "with open('pkg.json') as fp:\n",
    "    feed = json.load(fp)"
   ]
  },
  {
   "cell_type": "code",
   "execution_count": null,
   "id": "2319bcc5-31c5-4f2a-b67c-7a4616d44e24",
   "metadata": {},
   "outputs": [],
   "source": [
    "sorted(feed.keys())"
   ]
  },
  {
   "cell_type": "code",
   "execution_count": null,
   "id": "ed695ec8-ecbd-4f93-b8f7-a15cbc2d9a6e",
   "metadata": {},
   "outputs": [],
   "source": [
    "sorted(feed['post_stream'].keys())\n"
   ]
  },
  {
   "cell_type": "code",
   "execution_count": null,
   "id": "36ad4d54-5c72-4657-9fdb-bb786611bff5",
   "metadata": {},
   "outputs": [],
   "source": [
    "for key, value in sorted(feed['post_stream'].items()):\n",
    "    print(f'{len(value):3}  {key}')\n"
   ]
  },
  {
   "cell_type": "code",
   "execution_count": null,
   "id": "1e391250-a6d0-47a4-b45b-880cdeeb692c",
   "metadata": {},
   "outputs": [],
   "source": [
    "len(feed['post_stream']['posts'])"
   ]
  },
  {
   "cell_type": "code",
   "execution_count": null,
   "id": "82c5920e-1a40-4af3-a1ca-676dcb034779",
   "metadata": {},
   "outputs": [],
   "source": [
    "[print(f'{post[\"name\"]}  {post[\"created_at\"]}') for post in feed['post_stream']['posts']]"
   ]
  },
  {
   "cell_type": "markdown",
   "id": "d8b5cf5a-0443-4af5-a917-3af4f4cc73f1",
   "metadata": {},
   "source": [
    "# Pandas"
   ]
  },
  {
   "cell_type": "code",
   "execution_count": null,
   "id": "f78178fb-25a2-43e0-96b9-1f617805796b",
   "metadata": {},
   "outputs": [],
   "source": [
    "import json\n",
    "import pandas as pd\n",
    "from pandas.io.json import json_normalize "
   ]
  },
  {
   "cell_type": "code",
   "execution_count": null,
   "id": "2faf1c62-d0c9-4ba6-98e4-039c459b950c",
   "metadata": {},
   "outputs": [],
   "source": [
    "with open('pkg.json') as fp:\n",
    "    d = json.load(fp)"
   ]
  },
  {
   "cell_type": "code",
   "execution_count": null,
   "id": "a8faf9cd-9db0-4d22-b655-aa8dfbe953fe",
   "metadata": {},
   "outputs": [],
   "source": [
    "normed = pd.json_normalize(d, max_level=3)"
   ]
  },
  {
   "cell_type": "code",
   "execution_count": null,
   "id": "5d80420f-68b8-4da9-991f-69c9d961a70e",
   "metadata": {},
   "outputs": [],
   "source": [
    "print(normed)"
   ]
  },
  {
   "cell_type": "code",
   "execution_count": null,
   "id": "885eaa9f-12b4-4e80-8004-c343cca4f889",
   "metadata": {},
   "outputs": [],
   "source": [
    "normed"
   ]
  },
  {
   "cell_type": "code",
   "execution_count": null,
   "id": "445657bf-cf06-490d-b33f-61a58585f0c4",
   "metadata": {},
   "outputs": [],
   "source": []
  }
 ],
 "metadata": {
  "kernelspec": {
   "display_name": "Python 3 (ipykernel)",
   "language": "python",
   "name": "python3"
  },
  "language_info": {
   "codemirror_mode": {
    "name": "ipython",
    "version": 3
   },
   "file_extension": ".py",
   "mimetype": "text/x-python",
   "name": "python",
   "nbconvert_exporter": "python",
   "pygments_lexer": "ipython3",
   "version": "3.11.6"
  }
 },
 "nbformat": 4,
 "nbformat_minor": 5
}
