{
 "cells": [
  {
   "cell_type": "markdown",
   "id": "ab9dfc14-ca3a-49b9-ad31-b42da6c36dfe",
   "metadata": {},
   "source": [
    "# Get some data\n",
    "\n",
    "Get a `json` file that contains information on a Discourse topic."
   ]
  },
  {
   "cell_type": "code",
   "execution_count": 40,
   "id": "3839a479-ffec-4b5d-9ffc-e8e0bf83a777",
   "metadata": {},
   "outputs": [],
   "source": [
    "import json"
   ]
  },
  {
   "cell_type": "code",
   "execution_count": 41,
   "id": "a2191925-6177-406b-98b3-8ec59713f7fc",
   "metadata": {},
   "outputs": [],
   "source": [
    "with open('pkg.json') as fp:\n",
    "    feed = json.load(fp)"
   ]
  },
  {
   "cell_type": "code",
   "execution_count": 54,
   "id": "3eeeb020-3aae-4cb5-a325-2952a8a67f91",
   "metadata": {},
   "outputs": [],
   "source": [
    "fields = ['fancy_title', 'created_at', 'posts_count', 'participant_count', 'word_count']"
   ]
  },
  {
   "cell_type": "code",
   "execution_count": 48,
   "id": "2319bcc5-31c5-4f2a-b67c-7a4616d44e24",
   "metadata": {},
   "outputs": [
    {
     "data": {
      "text/plain": [
       "['actions_summary',\n",
       " 'archetype',\n",
       " 'archived',\n",
       " 'bookmarked',\n",
       " 'bookmarks',\n",
       " 'can_vote',\n",
       " 'category_id',\n",
       " 'chunk_size',\n",
       " 'closed',\n",
       " 'created_at',\n",
       " 'current_post_number',\n",
       " 'deleted_at',\n",
       " 'deleted_by',\n",
       " 'details',\n",
       " 'discourse_zendesk_plugin_zendesk_id',\n",
       " 'discourse_zendesk_plugin_zendesk_url',\n",
       " 'draft',\n",
       " 'draft_key',\n",
       " 'draft_sequence',\n",
       " 'fancy_title',\n",
       " 'featured_link',\n",
       " 'has_summary',\n",
       " 'highest_post_number',\n",
       " 'id',\n",
       " 'image_url',\n",
       " 'last_posted_at',\n",
       " 'last_read_post_id',\n",
       " 'last_read_post_number',\n",
       " 'like_count',\n",
       " 'message_bus_last_id',\n",
       " 'participant_count',\n",
       " 'pending_posts',\n",
       " 'pinned',\n",
       " 'pinned_at',\n",
       " 'pinned_globally',\n",
       " 'pinned_until',\n",
       " 'post_stream',\n",
       " 'posted',\n",
       " 'posts_count',\n",
       " 'related_topics',\n",
       " 'reply_count',\n",
       " 'show_read_indicator',\n",
       " 'slow_mode_enabled_until',\n",
       " 'slow_mode_seconds',\n",
       " 'slug',\n",
       " 'summarizable',\n",
       " 'tags',\n",
       " 'tags_descriptions',\n",
       " 'tags_disable_ads',\n",
       " 'thumbnails',\n",
       " 'timeline_lookup',\n",
       " 'title',\n",
       " 'topic_timer',\n",
       " 'unpinned',\n",
       " 'user_id',\n",
       " 'user_voted',\n",
       " 'views',\n",
       " 'visible',\n",
       " 'vote_count',\n",
       " 'word_count']"
      ]
     },
     "execution_count": 48,
     "metadata": {},
     "output_type": "execute_result"
    }
   ],
   "source": [
    "sorted(feed.keys())"
   ]
  },
  {
   "cell_type": "code",
   "execution_count": 43,
   "id": "ed695ec8-ecbd-4f93-b8f7-a15cbc2d9a6e",
   "metadata": {},
   "outputs": [
    {
     "data": {
      "text/plain": [
       "['posts', 'stream']"
      ]
     },
     "execution_count": 43,
     "metadata": {},
     "output_type": "execute_result"
    }
   ],
   "source": [
    "sorted(feed['post_stream'].keys())\n"
   ]
  },
  {
   "cell_type": "code",
   "execution_count": 44,
   "id": "36ad4d54-5c72-4657-9fdb-bb786611bff5",
   "metadata": {},
   "outputs": [
    {
     "name": "stdout",
     "output_type": "stream",
     "text": [
      " 20  posts\n",
      "295  stream\n"
     ]
    }
   ],
   "source": [
    "for key, value in sorted(feed['post_stream'].items()):\n",
    "    print(f'{len(value):3}  {key}')\n"
   ]
  },
  {
   "cell_type": "code",
   "execution_count": 45,
   "id": "1e391250-a6d0-47a4-b45b-880cdeeb692c",
   "metadata": {},
   "outputs": [
    {
     "data": {
      "text/plain": [
       "20"
      ]
     },
     "execution_count": 45,
     "metadata": {},
     "output_type": "execute_result"
    }
   ],
   "source": [
    "len(feed['post_stream']['posts'])"
   ]
  },
  {
   "cell_type": "code",
   "execution_count": 46,
   "id": "82c5920e-1a40-4af3-a1ca-676dcb034779",
   "metadata": {},
   "outputs": [
    {
     "name": "stdout",
     "output_type": "stream",
     "text": [
      "Brett Cannon  2024-02-22T02:04:37.147Z\n",
      "Brett Cannon  2024-02-22T02:07:51.130Z\n",
      "Laurie O  2024-02-22T07:05:27.507Z\n",
      "Philipp A.  2024-02-22T08:02:29.829Z\n",
      "Paul Moore  2024-02-22T09:35:59.493Z\n",
      "Paul Moore  2024-02-22T09:49:41.849Z\n",
      "Paul Moore  2024-02-22T10:52:00.638Z\n",
      "Cemici  2024-02-22T10:53:58.479Z\n",
      "James Tocknell  2024-02-22T11:02:14.962Z\n",
      "Jean Abou Samra  2024-02-22T11:03:44.798Z\n",
      "Paul Moore  2024-02-22T11:43:01.809Z\n",
      "Carli* Freudenberg  2024-02-22T12:10:24.789Z\n",
      "Greg Roodt  2024-02-22T12:31:50.365Z\n",
      "Greg Roodt  2024-02-22T12:34:17.998Z\n",
      "Hugo van Kemenade  2024-02-22T13:35:03.575Z\n",
      "Randy Döring  2024-02-22T15:27:19.325Z\n",
      "Seth Michael Larson  2024-02-22T16:39:10.452Z\n",
      "Frazer McLean  2024-02-22T16:41:19.070Z\n",
      "Carol Willing  2024-02-22T17:01:07.415Z\n",
      "Paul Moore  2024-02-22T17:19:01.922Z\n"
     ]
    },
    {
     "data": {
      "text/plain": [
       "[None,\n",
       " None,\n",
       " None,\n",
       " None,\n",
       " None,\n",
       " None,\n",
       " None,\n",
       " None,\n",
       " None,\n",
       " None,\n",
       " None,\n",
       " None,\n",
       " None,\n",
       " None,\n",
       " None,\n",
       " None,\n",
       " None,\n",
       " None,\n",
       " None,\n",
       " None]"
      ]
     },
     "execution_count": 46,
     "metadata": {},
     "output_type": "execute_result"
    }
   ],
   "source": [
    "[print(f'{post[\"name\"]}  {post[\"created_at\"]}') for post in feed['post_stream']['posts']]"
   ]
  },
  {
   "cell_type": "markdown",
   "id": "e5999bc1-5287-4d97-afbc-eeda3d98b6cb",
   "metadata": {},
   "source": [
    "## Some topic info"
   ]
  },
  {
   "cell_type": "code",
   "execution_count": 57,
   "id": "3befc0b2-9581-4ebc-8448-4c68e911b069",
   "metadata": {},
   "outputs": [
    {
     "name": "stdout",
     "output_type": "stream",
     "text": [
      "fancy_title           Lock files, again (but this time w/ sdists!)\n",
      "created_at            2024-02-22T02:04:37.017Z\n",
      "posts_count           295\n",
      "participant_count     43\n",
      "word_count            79793\n"
     ]
    }
   ],
   "source": [
    "for field in fields:\n",
    "    print(f'{field:20}  {feed[field]}')"
   ]
  },
  {
   "cell_type": "markdown",
   "id": "d8b5cf5a-0443-4af5-a917-3af4f4cc73f1",
   "metadata": {},
   "source": [
    "# Pandas"
   ]
  },
  {
   "cell_type": "code",
   "execution_count": null,
   "id": "f78178fb-25a2-43e0-96b9-1f617805796b",
   "metadata": {},
   "outputs": [],
   "source": [
    "import json\n",
    "import pandas as pd\n",
    "from pandas.io.json import json_normalize "
   ]
  },
  {
   "cell_type": "code",
   "execution_count": null,
   "id": "2faf1c62-d0c9-4ba6-98e4-039c459b950c",
   "metadata": {},
   "outputs": [],
   "source": [
    "with open('pkg.json') as fp:\n",
    "    d = json.load(fp)"
   ]
  },
  {
   "cell_type": "code",
   "execution_count": null,
   "id": "a8faf9cd-9db0-4d22-b655-aa8dfbe953fe",
   "metadata": {},
   "outputs": [],
   "source": [
    "normed = pd.json_normalize(d, max_level=3)"
   ]
  },
  {
   "cell_type": "code",
   "execution_count": null,
   "id": "5d80420f-68b8-4da9-991f-69c9d961a70e",
   "metadata": {},
   "outputs": [],
   "source": [
    "print(normed)"
   ]
  },
  {
   "cell_type": "code",
   "execution_count": null,
   "id": "885eaa9f-12b4-4e80-8004-c343cca4f889",
   "metadata": {},
   "outputs": [],
   "source": [
    "normed"
   ]
  },
  {
   "cell_type": "code",
   "execution_count": null,
   "id": "445657bf-cf06-490d-b33f-61a58585f0c4",
   "metadata": {},
   "outputs": [],
   "source": []
  }
 ],
 "metadata": {
  "kernelspec": {
   "display_name": "Python 3 (ipykernel)",
   "language": "python",
   "name": "python3"
  },
  "language_info": {
   "codemirror_mode": {
    "name": "ipython",
    "version": 3
   },
   "file_extension": ".py",
   "mimetype": "text/x-python",
   "name": "python",
   "nbconvert_exporter": "python",
   "pygments_lexer": "ipython3",
   "version": "3.11.6"
  }
 },
 "nbformat": 4,
 "nbformat_minor": 5
}
