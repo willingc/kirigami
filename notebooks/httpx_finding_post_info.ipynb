{
 "cells": [
  {
   "cell_type": "markdown",
   "id": "401f82ab-5252-4035-8242-27af70df216f",
   "metadata": {},
   "source": [
    "# HTTPX: Querying Discourse API"
   ]
  },
  {
   "cell_type": "markdown",
   "id": "b7317423-3194-4bb9-bf90-27e5d19ce96a",
   "metadata": {},
   "source": [
    "# Set up API client"
   ]
  },
  {
   "cell_type": "markdown",
   "id": "02cae19b-49b8-40e6-9fa5-0e83b81a53f4",
   "metadata": {},
   "source": [
    "## Load environment variables"
   ]
  },
  {
   "cell_type": "code",
   "execution_count": null,
   "id": "8fa161d6-a4e0-4be9-ab2e-b4f6452ff1de",
   "metadata": {},
   "outputs": [],
   "source": [
    "from dotenv import dotenv_values, load_dotenv"
   ]
  },
  {
   "cell_type": "code",
   "execution_count": null,
   "id": "8760428e-98ee-4fdb-b89e-4f418bdfbb83",
   "metadata": {},
   "outputs": [],
   "source": [
    "load_dotenv('../.env')"
   ]
  },
  {
   "cell_type": "code",
   "execution_count": null,
   "id": "52f70547-c904-460c-ae51-cfa11f8c546c",
   "metadata": {},
   "outputs": [],
   "source": [
    "config = dotenv_values('../.env')"
   ]
  },
  {
   "cell_type": "markdown",
   "id": "20ee9794-10ed-4b60-a2aa-a29652c26a06",
   "metadata": {},
   "source": [
    "## Set up httpx to query API"
   ]
  },
  {
   "cell_type": "code",
   "execution_count": null,
   "id": "64b34d3a-fa16-4a65-a777-0c4d5df9a454",
   "metadata": {},
   "outputs": [],
   "source": [
    "import httpx\n",
    "\n",
    "httpx.__version__"
   ]
  },
  {
   "cell_type": "code",
   "execution_count": null,
   "id": "d357fe8d-2cd3-4e71-943a-7283b7151df3",
   "metadata": {},
   "outputs": [],
   "source": [
    "httpx.DigestAuth(config['DISCOURSE_USERNAME'], config['DISCOURSE_API_KEY'])"
   ]
  },
  {
   "cell_type": "code",
   "execution_count": null,
   "id": "5f8041c6-5848-4765-9428-655b51e3c3b2",
   "metadata": {},
   "outputs": [],
   "source": [
    "with httpx.Client() as client:\n",
    "    r = client.get(\"https://discuss.python.org/categories\")"
   ]
  },
  {
   "cell_type": "code",
   "execution_count": null,
   "id": "a014007c-58a4-46a8-8b84-0894fe1d918f",
   "metadata": {},
   "outputs": [],
   "source": [
    "r"
   ]
  },
  {
   "cell_type": "code",
   "execution_count": null,
   "id": "4ed74552-6249-4912-9a65-5912aee908a9",
   "metadata": {},
   "outputs": [],
   "source": [
    "r.status_code"
   ]
  },
  {
   "cell_type": "code",
   "execution_count": null,
   "id": "b1726973-2c57-40ed-b9c7-eb62e3ce55fc",
   "metadata": {},
   "outputs": [],
   "source": [
    "r.headers"
   ]
  },
  {
   "cell_type": "code",
   "execution_count": null,
   "id": "7eb803ff-9c74-4fe1-8f26-4d567daac7c3",
   "metadata": {},
   "outputs": [],
   "source": [
    "r.text"
   ]
  },
  {
   "cell_type": "code",
   "execution_count": null,
   "id": "b1edd8b2-8bfe-4a16-abab-b2a9ee553953",
   "metadata": {},
   "outputs": [],
   "source": [
    "r.encoding"
   ]
  },
  {
   "cell_type": "code",
   "execution_count": null,
   "id": "eae1bdd4-749c-4a43-aeee-bbdcd911f1c2",
   "metadata": {},
   "outputs": [],
   "source": [
    "r.content"
   ]
  },
  {
   "cell_type": "code",
   "execution_count": null,
   "id": "1779c04a-ad97-4823-9c17-a32993a72ca0",
   "metadata": {},
   "outputs": [],
   "source": [
    "with httpx.Client() as client:\n",
    "    r = client.get(\"https://discuss.python.org/categories.json\")"
   ]
  },
  {
   "cell_type": "code",
   "execution_count": null,
   "id": "385dcdcc-10b1-4b10-bc0c-7e484186992a",
   "metadata": {},
   "outputs": [],
   "source": [
    "r.json()"
   ]
  },
  {
   "cell_type": "markdown",
   "id": "530098eb-04b7-4661-b92f-3602a01999cc",
   "metadata": {},
   "source": [
    "# Basic Queries"
   ]
  },
  {
   "cell_type": "code",
   "execution_count": null,
   "id": "63bb0e9c-11f4-4b87-8291-677d7c326ad5",
   "metadata": {},
   "outputs": [],
   "source": [
    "with httpx.Client() as client:\n",
    "    r = client.get(\"https://discuss.python.org/t/46593.json\")"
   ]
  },
  {
   "cell_type": "code",
   "execution_count": null,
   "id": "ef9d0d5b-98df-4a52-83ee-0da60f17edef",
   "metadata": {},
   "outputs": [],
   "source": [
    "r.json()"
   ]
  },
  {
   "cell_type": "code",
   "execution_count": null,
   "id": "2461b448-3164-40ae-a534-e8c2bf1905ea",
   "metadata": {},
   "outputs": [],
   "source": [
    "r.content"
   ]
  },
  {
   "cell_type": "code",
   "execution_count": null,
   "id": "fa769f9e-bcd7-4a9d-92b8-fd68fa2c2efc",
   "metadata": {},
   "outputs": [],
   "source": [
    "posts= r.json()"
   ]
  },
  {
   "cell_type": "code",
   "execution_count": null,
   "id": "6f70b5dc-0b4f-49c5-a62b-1e3c5d7f7c78",
   "metadata": {},
   "outputs": [],
   "source": [
    "# Get keys of posts dictionary\n",
    "posts.keys()"
   ]
  },
  {
   "cell_type": "code",
   "execution_count": null,
   "id": "c0b40d6c-7618-45a6-b7fa-67c87eb46432",
   "metadata": {},
   "outputs": [],
   "source": [
    "posts['post_stream'].keys()"
   ]
  },
  {
   "cell_type": "code",
   "execution_count": null,
   "id": "43c85dd5-9e3a-4475-9f72-b8d2b7a607b6",
   "metadata": {},
   "outputs": [],
   "source": [
    "list_of_stream = posts['post_stream']['stream']"
   ]
  },
  {
   "cell_type": "code",
   "execution_count": null,
   "id": "324b34d4-a72e-4d55-bb69-44942c766900",
   "metadata": {},
   "outputs": [],
   "source": [
    "len(list_of_stream)"
   ]
  },
  {
   "cell_type": "code",
   "execution_count": null,
   "id": "6fccafba-e564-4bdd-bcba-774a51dad1f9",
   "metadata": {},
   "outputs": [],
   "source": [
    "list_of_stream"
   ]
  },
  {
   "cell_type": "code",
   "execution_count": null,
   "id": "66e18920-6bdf-44a2-b648-6639ae3a0f20",
   "metadata": {},
   "outputs": [],
   "source": [
    "list_of_posts = posts['post_stream']['posts']"
   ]
  },
  {
   "cell_type": "code",
   "execution_count": null,
   "id": "a95207b3-1b9e-4185-bae5-0bac983b54d6",
   "metadata": {},
   "outputs": [],
   "source": [
    "len(list_of_posts)"
   ]
  },
  {
   "cell_type": "code",
   "execution_count": null,
   "id": "1305d69e-c2bf-4829-8b6b-d509f6a68ffc",
   "metadata": {},
   "outputs": [],
   "source": []
  },
  {
   "cell_type": "code",
   "execution_count": null,
   "id": "870500d3-4df7-40dd-859a-22bc5a2911ad",
   "metadata": {},
   "outputs": [],
   "source": [
    "# Get keys for an individual post. We will use the first post here.\n",
    "post_keys = posts['post_stream']['posts'][0].keys()"
   ]
  },
  {
   "cell_type": "markdown",
   "id": "fd4d6dc2-1cc3-4806-bbb3-5aff8a394ae0",
   "metadata": {},
   "source": [
    "# Individual post\n",
    "\n",
    "## All post metadata"
   ]
  },
  {
   "cell_type": "code",
   "execution_count": null,
   "id": "aaeaddf9-5b79-453d-9318-8f3eee7f93a1",
   "metadata": {},
   "outputs": [],
   "source": [
    "# Print all keys in an individual post\n",
    "for key in post_keys:\n",
    "    print(key)"
   ]
  },
  {
   "cell_type": "code",
   "execution_count": null,
   "id": "39781260-a546-4280-9c67-41e8bdb705fd",
   "metadata": {},
   "outputs": [],
   "source": [
    "for key in post_keys:\n",
    "    print(f\"{key:20} {posts['post_stream']['posts'][0][key]}\")"
   ]
  },
  {
   "cell_type": "markdown",
   "id": "d9b773e3-184a-44bc-a96b-b625fdccabad",
   "metadata": {},
   "source": [
    "## Desired post metadata"
   ]
  },
  {
   "cell_type": "code",
   "execution_count": null,
   "id": "ca08a3ec-2cbd-4522-b114-077e20674fcd",
   "metadata": {},
   "outputs": [],
   "source": [
    "post_metadata = ['id', 'username', 'display_username', 'user_id', 'created_at', 'post_number', 'post_type']\n",
    "post_content = 'cooked'"
   ]
  },
  {
   "cell_type": "code",
   "execution_count": null,
   "id": "491eb830-b121-42e0-bc0b-1368ceb9a972",
   "metadata": {},
   "outputs": [],
   "source": [
    "# Print post_metadata\n",
    "for key in post_metadata:\n",
    "    print(f\"{key:20} {posts['post_stream']['posts'][0][key]}\")"
   ]
  },
  {
   "cell_type": "markdown",
   "id": "ed08345d-2e1a-4307-ac05-55bdde1155ca",
   "metadata": {},
   "source": [
    "# Rendered post content"
   ]
  },
  {
   "cell_type": "code",
   "execution_count": null,
   "id": "c4c0863e-4c25-4d74-a016-5ab8ec0830b4",
   "metadata": {},
   "outputs": [],
   "source": [
    "# Display post content as HTML\n",
    "from IPython.display import display, HTML\n",
    "display(HTML(posts['post_stream']['posts'][0][post_content]))"
   ]
  },
  {
   "cell_type": "markdown",
   "id": "4740b98d-c995-4c6e-b5fb-a55f689bb80f",
   "metadata": {},
   "source": [
    "# Topic metadata"
   ]
  },
  {
   "cell_type": "code",
   "execution_count": null,
   "id": "e234bb02-86f4-4074-9182-8c618403f5ea",
   "metadata": {},
   "outputs": [],
   "source": [
    "# title, title_slug, num_messages, num_unique_authors, created_timestamp, created_by\n",
    "# estimated_reading_time\n",
    "# discussion_timespan = now - created_timestamp"
   ]
  },
  {
   "cell_type": "code",
   "execution_count": null,
   "id": "73ca8fec-26b6-4c0a-ac62-17c11bd95de4",
   "metadata": {},
   "outputs": [],
   "source": []
  }
 ],
 "metadata": {
  "kernelspec": {
   "display_name": "Python 3 (ipykernel)",
   "language": "python",
   "name": "python3"
  },
  "language_info": {
   "codemirror_mode": {
    "name": "ipython",
    "version": 3
   },
   "file_extension": ".py",
   "mimetype": "text/x-python",
   "name": "python",
   "nbconvert_exporter": "python",
   "pygments_lexer": "ipython3",
   "version": "3.11.6"
  }
 },
 "nbformat": 4,
 "nbformat_minor": 5
}
