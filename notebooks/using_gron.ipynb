{
 "cells": [
  {
   "cell_type": "markdown",
   "id": "a8a49a81-ffe8-4234-8019-671013e60a4c",
   "metadata": {},
   "source": [
    "# JSON from the Command Line using gron"
   ]
  },
  {
   "cell_type": "markdown",
   "id": "88b5c8dc-0b84-4e70-9287-53dcbd31616a",
   "metadata": {},
   "source": [
    "[gron](https://github.com/tomnomnom/gron) is a command line tool written\n",
    "in go that simplifies flattening JSON so it can be easily grepped."
   ]
  },
  {
   "cell_type": "code",
   "execution_count": null,
   "id": "9493037b-942b-4078-a5d1-26ad716adb33",
   "metadata": {},
   "outputs": [],
   "source": [
    "# Make sure that you have gron installed on your computer"
   ]
  },
  {
   "cell_type": "code",
   "execution_count": null,
   "id": "bb5fb0ac-37ae-44dd-98d7-b04c9948465d",
   "metadata": {},
   "outputs": [],
   "source": [
    "# Get the data file\n",
    "!ls data"
   ]
  },
  {
   "cell_type": "code",
   "execution_count": null,
   "id": "e97940b1-42bc-42f6-a1f6-b650d8b9efa9",
   "metadata": {},
   "outputs": [],
   "source": [
    "!gron data/108.json"
   ]
  },
  {
   "cell_type": "code",
   "execution_count": null,
   "id": "bffa550a-0613-49cb-8a27-eb1b79bda181",
   "metadata": {},
   "outputs": [],
   "source": [
    "# Grep for valid reactions\n",
    "!!gron data/108.json | grep valid_reactions"
   ]
  },
  {
   "cell_type": "markdown",
   "id": "6c59f1ea-074c-4f5a-a676-79910942cd85",
   "metadata": {},
   "source": [
    "## Why use gron instead of jq?\n",
    "\n",
    "`gron` is easier to use so I prefer it to `jq`. You can do the same in `jq`, but\n",
    "it has a longer learning curve due to its power and complexity."
   ]
  },
  {
   "cell_type": "code",
   "execution_count": null,
   "id": "cc4bf77d-81cb-4587-bd4a-39b6cac808a1",
   "metadata": {},
   "outputs": [],
   "source": []
  }
 ],
 "metadata": {
  "kernelspec": {
   "display_name": "Python 3 (ipykernel)",
   "language": "python",
   "name": "python3"
  },
  "language_info": {
   "codemirror_mode": {
    "name": "ipython",
    "version": 3
   },
   "file_extension": ".py",
   "mimetype": "text/x-python",
   "name": "python",
   "nbconvert_exporter": "python",
   "pygments_lexer": "ipython3",
   "version": "3.11.6"
  }
 },
 "nbformat": 4,
 "nbformat_minor": 5
}
