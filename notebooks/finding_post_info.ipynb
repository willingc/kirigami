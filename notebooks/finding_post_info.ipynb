{
 "cells": [
  {
   "cell_type": "markdown",
   "id": "401f82ab-5252-4035-8242-27af70df216f",
   "metadata": {},
   "source": [
    "# Querying Discourse API"
   ]
  },
  {
   "cell_type": "markdown",
   "id": "b7317423-3194-4bb9-bf90-27e5d19ce96a",
   "metadata": {},
   "source": [
    "# Set up API client"
   ]
  },
  {
   "cell_type": "markdown",
   "id": "02cae19b-49b8-40e6-9fa5-0e83b81a53f4",
   "metadata": {},
   "source": [
    "## Load environment variables"
   ]
  },
  {
   "cell_type": "code",
   "execution_count": null,
   "id": "8fa161d6-a4e0-4be9-ab2e-b4f6452ff1de",
   "metadata": {},
   "outputs": [],
   "source": [
    "from dotenv import dotenv_values, load_dotenv"
   ]
  },
  {
   "cell_type": "code",
   "execution_count": null,
   "id": "8760428e-98ee-4fdb-b89e-4f418bdfbb83",
   "metadata": {},
   "outputs": [],
   "source": [
    "load_dotenv('../.env')"
   ]
  },
  {
   "cell_type": "code",
   "execution_count": null,
   "id": "52f70547-c904-460c-ae51-cfa11f8c546c",
   "metadata": {},
   "outputs": [],
   "source": [
    "config = dotenv_values('../.env')"
   ]
  },
  {
   "cell_type": "markdown",
   "id": "20ee9794-10ed-4b60-a2aa-a29652c26a06",
   "metadata": {},
   "source": [
    "## Set up discourse client to query API"
   ]
  },
  {
   "cell_type": "code",
   "execution_count": null,
   "id": "64b34d3a-fa16-4a65-a777-0c4d5df9a454",
   "metadata": {},
   "outputs": [],
   "source": [
    "import pydiscourse\n",
    "\n",
    "pydiscourse.__version__"
   ]
  },
  {
   "cell_type": "code",
   "execution_count": null,
   "id": "5f8041c6-5848-4765-9428-655b51e3c3b2",
   "metadata": {},
   "outputs": [],
   "source": [
    "from pydiscourse import DiscourseClient\n",
    "client = DiscourseClient(\n",
    "        config['ROOT_URL'],\n",
    "        config['DISCOURSE_USERNAME'],\n",
    "        config['DISCOURSE_API_KEY']\n",
    ")"
   ]
  },
  {
   "cell_type": "markdown",
   "id": "530098eb-04b7-4661-b92f-3602a01999cc",
   "metadata": {},
   "source": [
    "# Basic Queries"
   ]
  },
  {
   "cell_type": "code",
   "execution_count": null,
   "id": "52224f49-0f97-44f9-944c-090fc06cf7f5",
   "metadata": {},
   "outputs": [],
   "source": [
    "# Get info about a user\n",
    "# client.user('willingc')"
   ]
  },
  {
   "cell_type": "code",
   "execution_count": null,
   "id": "ed06461d-c9d7-4253-9fc5-5e1a72fddd91",
   "metadata": {},
   "outputs": [],
   "source": [
    "# Get posts about a specific topic id\n",
    "posts = client.topic_posts(46593)"
   ]
  },
  {
   "cell_type": "code",
   "execution_count": null,
   "id": "6f70b5dc-0b4f-49c5-a62b-1e3c5d7f7c78",
   "metadata": {},
   "outputs": [],
   "source": [
    "# Get keys of posts dictionary\n",
    "posts.keys()"
   ]
  },
  {
   "cell_type": "code",
   "execution_count": null,
   "id": "c0b40d6c-7618-45a6-b7fa-67c87eb46432",
   "metadata": {},
   "outputs": [],
   "source": [
    "posts['post_stream'].keys()"
   ]
  },
  {
   "cell_type": "code",
   "execution_count": null,
   "id": "66e18920-6bdf-44a2-b648-6639ae3a0f20",
   "metadata": {},
   "outputs": [],
   "source": [
    "list_of_posts = posts['post_stream']['posts']"
   ]
  },
  {
   "cell_type": "code",
   "execution_count": null,
   "id": "a95207b3-1b9e-4185-bae5-0bac983b54d6",
   "metadata": {},
   "outputs": [],
   "source": [
    "len(list_of_posts)"
   ]
  },
  {
   "cell_type": "code",
   "execution_count": null,
   "id": "870500d3-4df7-40dd-859a-22bc5a2911ad",
   "metadata": {},
   "outputs": [],
   "source": [
    "# Get keys for an individual post. We will use the first post here.\n",
    "post_keys = posts['post_stream']['posts'][0].keys()"
   ]
  },
  {
   "cell_type": "markdown",
   "id": "fd4d6dc2-1cc3-4806-bbb3-5aff8a394ae0",
   "metadata": {},
   "source": [
    "# Individual post\n",
    "\n",
    "## All post metadata"
   ]
  },
  {
   "cell_type": "code",
   "execution_count": null,
   "id": "aaeaddf9-5b79-453d-9318-8f3eee7f93a1",
   "metadata": {},
   "outputs": [],
   "source": [
    "# Print all keys in an individual post\n",
    "for key in post_keys:\n",
    "    print(key)"
   ]
  },
  {
   "cell_type": "code",
   "execution_count": null,
   "id": "39781260-a546-4280-9c67-41e8bdb705fd",
   "metadata": {},
   "outputs": [],
   "source": [
    "for key in post_keys:\n",
    "    print(f\"{key:20} {posts['post_stream']['posts'][0][key]}\")"
   ]
  },
  {
   "cell_type": "markdown",
   "id": "d9b773e3-184a-44bc-a96b-b625fdccabad",
   "metadata": {},
   "source": [
    "## Desired post metadata"
   ]
  },
  {
   "cell_type": "code",
   "execution_count": null,
   "id": "ca08a3ec-2cbd-4522-b114-077e20674fcd",
   "metadata": {},
   "outputs": [],
   "source": [
    "post_metadata = ['id', 'username', 'display_username', 'user_id', 'created_at', 'post_number', 'post_type']\n",
    "post_content = 'cooked'"
   ]
  },
  {
   "cell_type": "code",
   "execution_count": null,
   "id": "491eb830-b121-42e0-bc0b-1368ceb9a972",
   "metadata": {},
   "outputs": [],
   "source": [
    "# Print post_metadata\n",
    "for key in post_metadata:\n",
    "    print(f\"{key:20} {posts['post_stream']['posts'][0][key]}\")"
   ]
  },
  {
   "cell_type": "markdown",
   "id": "ed08345d-2e1a-4307-ac05-55bdde1155ca",
   "metadata": {},
   "source": [
    "# Rendered post content"
   ]
  },
  {
   "cell_type": "code",
   "execution_count": null,
   "id": "c4c0863e-4c25-4d74-a016-5ab8ec0830b4",
   "metadata": {},
   "outputs": [],
   "source": [
    "# Display post content as HTML\n",
    "from IPython.display import display, HTML\n",
    "display(HTML(posts['post_stream']['posts'][0][post_content]))"
   ]
  },
  {
   "cell_type": "markdown",
   "id": "4740b98d-c995-4c6e-b5fb-a55f689bb80f",
   "metadata": {},
   "source": [
    "# Topic metadata"
   ]
  },
  {
   "cell_type": "code",
   "execution_count": null,
   "id": "e234bb02-86f4-4074-9182-8c618403f5ea",
   "metadata": {},
   "outputs": [],
   "source": [
    "# title, title_slug, num_messages, num_unique_authors, created_timestamp, created_by\n",
    "# estimated_reading_time\n",
    "# discussion_timespan = now - created_timestamp"
   ]
  },
  {
   "cell_type": "code",
   "execution_count": null,
   "id": "73ca8fec-26b6-4c0a-ac62-17c11bd95de4",
   "metadata": {},
   "outputs": [],
   "source": []
  }
 ],
 "metadata": {
  "kernelspec": {
   "display_name": "Python 3 (ipykernel)",
   "language": "python",
   "name": "python3"
  },
  "language_info": {
   "codemirror_mode": {
    "name": "ipython",
    "version": 3
   },
   "file_extension": ".py",
   "mimetype": "text/x-python",
   "name": "python",
   "nbconvert_exporter": "python",
   "pygments_lexer": "ipython3",
   "version": "3.11.6"
  }
 },
 "nbformat": 4,
 "nbformat_minor": 5
}
