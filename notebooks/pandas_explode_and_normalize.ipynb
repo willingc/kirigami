{
 "cells": [
  {
   "cell_type": "markdown",
   "id": "8c380415-b56d-4adf-8973-b2d56f43f4c1",
   "metadata": {},
   "source": [
    "# Using pandas explode and normalize to flatten JSON"
   ]
  },
  {
   "cell_type": "code",
   "execution_count": null,
   "id": "a20f726e-c208-450a-ba60-74c0f623fac6",
   "metadata": {},
   "outputs": [],
   "source": [
    "import json\n",
    "import pandas as pd"
   ]
  },
  {
   "cell_type": "code",
   "execution_count": null,
   "id": "0680017f-89ff-4ab5-8dbc-a47162264f4f",
   "metadata": {},
   "outputs": [],
   "source": [
    "# Let's get the data\n",
    "with open('data/pkg.json') as f:\n",
    "    data = json.load(f)"
   ]
  },
  {
   "cell_type": "code",
   "execution_count": null,
   "id": "0580b1c1-0715-4171-9989-489438dabf5e",
   "metadata": {},
   "outputs": [],
   "source": [
    "#print(data)"
   ]
  },
  {
   "cell_type": "code",
   "execution_count": null,
   "id": "9672df0a-430d-464a-976f-11d30f85c7c2",
   "metadata": {},
   "outputs": [],
   "source": [
    "type(data)"
   ]
  },
  {
   "cell_type": "code",
   "execution_count": null,
   "id": "91a3524d-e187-4bc2-8392-3f3876d3b870",
   "metadata": {},
   "outputs": [],
   "source": [
    "stream = pd.json_normalize(data['post_stream'])"
   ]
  },
  {
   "cell_type": "code",
   "execution_count": null,
   "id": "ae169ebb-e7bb-45fa-b9e4-fa0d0075934c",
   "metadata": {},
   "outputs": [],
   "source": [
    "stream.head()"
   ]
  },
  {
   "cell_type": "code",
   "execution_count": null,
   "id": "97ac2041-658f-4e1b-a1a6-6745a950f20d",
   "metadata": {},
   "outputs": [],
   "source": [
    "posts = pd.json_normalize(data['post_stream']['posts'])"
   ]
  },
  {
   "cell_type": "code",
   "execution_count": null,
   "id": "ec0c46e6-a446-447b-8c1e-0f23535b866d",
   "metadata": {},
   "outputs": [],
   "source": [
    "posts.head()"
   ]
  },
  {
   "cell_type": "code",
   "execution_count": null,
   "id": "06e04ebc-0bf0-4954-9fb9-20daf66ff14d",
   "metadata": {},
   "outputs": [],
   "source": [
    "[column for column in posts.columns]"
   ]
  },
  {
   "cell_type": "code",
   "execution_count": null,
   "id": "90f13395-ab10-49b4-844e-5d5f0ad1b60c",
   "metadata": {},
   "outputs": [],
   "source": [
    "keep_columns = ['id', 'name', 'username', 'created_at', 'post_number', 'reply_count', 'cooked']"
   ]
  },
  {
   "cell_type": "code",
   "execution_count": null,
   "id": "4b1d1121-0b8c-49a9-ba51-021e36b699e9",
   "metadata": {},
   "outputs": [],
   "source": [
    "curated = posts[keep_columns]"
   ]
  },
  {
   "cell_type": "code",
   "execution_count": null,
   "id": "ca1d6fe2-f8b9-4a82-beef-dbd12614961f",
   "metadata": {},
   "outputs": [],
   "source": [
    "curated.head()"
   ]
  },
  {
   "cell_type": "code",
   "execution_count": null,
   "id": "6f0227a5-4f0d-4955-82bd-be84e9cb7f04",
   "metadata": {},
   "outputs": [],
   "source": [
    "curated"
   ]
  },
  {
   "cell_type": "code",
   "execution_count": null,
   "id": "4493ecbe-6a6b-48cc-8af8-22a90526cf9f",
   "metadata": {},
   "outputs": [],
   "source": []
  }
 ],
 "metadata": {
  "kernelspec": {
   "display_name": "Python 3 (ipykernel)",
   "language": "python",
   "name": "python3"
  },
  "language_info": {
   "codemirror_mode": {
    "name": "ipython",
    "version": 3
   },
   "file_extension": ".py",
   "mimetype": "text/x-python",
   "name": "python",
   "nbconvert_exporter": "python",
   "pygments_lexer": "ipython3",
   "version": "3.11.6"
  }
 },
 "nbformat": 4,
 "nbformat_minor": 5
}
